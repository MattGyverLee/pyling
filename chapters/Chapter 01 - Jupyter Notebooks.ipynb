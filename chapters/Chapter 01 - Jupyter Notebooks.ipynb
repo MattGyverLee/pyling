{
 "cells": [
  {
   "cell_type": "markdown",
   "metadata": {},
   "source": [
    "# Chapter 1 - Jupyter Notebooks\n",
    "\n",
    "Welcome to the Python for Linguists course! In this course we will be learning Python primarily within Jupyter notebooks.\n",
    "\n",
    "The core concept behind Jupyter notebooks is that of the [narrative](https://jupyter.readthedocs.io/en/latest/use-cases/narrative-notebook.html). Based on the concept of a scientists notebook which contains data observations coupled with analytic narrative, the Jupyter Notebook offers a way for writing narrative text interspersed with Python code. Those narratives and code are displayed underneath the hood using fancy HTML and Javascript. You never have to worry about this under the hood stuff. But it is good to know what's going on. \n",
    "\n",
    "The text you're reading now is written in what's known as [Markdown](https://github.com/adam-p/markdown-here/wiki/Markdown-Cheatsheet). The link there contains a cheatsheet about how to write pretty text in markdown. You can do things like add **bolded text** by wrapping text with double asterix: `**your text here**`. Or you can indicate headings with a hashtag: `# A Primary Heading` or `## A Secondary Heading`. \n",
    "\n",
    "## Cells\n",
    "\n",
    "Jupyter notebooks are divided into \"cells\". These are boxes that you can arbitrarily add and sort according to your needs. This text is currently contained in a cell that is marked for \"Markdown\" text. You can see this by selecting this cell and looking at the label in the selector above:\n",
    "\n",
    "<img src=\"../images/markdown.png\">"
   ]
  },
  {
   "cell_type": "markdown",
   "metadata": {},
   "source": [
    "The cell below, alternatively, contains Python code. That cell is marked as \"Code\""
   ]
  },
  {
   "cell_type": "code",
   "execution_count": 1,
   "metadata": {
    "scrolled": true
   },
   "outputs": [
    {
     "data": {
      "text/plain": [
       "2"
      ]
     },
     "execution_count": 1,
     "metadata": {},
     "output_type": "execute_result"
    }
   ],
   "source": [
    "1+1"
   ]
  },
  {
   "cell_type": "markdown",
   "metadata": {},
   "source": [
    "<img src=\"../images/code_cell.png\">"
   ]
  },
  {
   "cell_type": "markdown",
   "metadata": {},
   "source": [
    "Make sure that when you're trying to run Python code, the selector at the top of the toolbar says \"Code\"!"
   ]
  },
  {
   "cell_type": "markdown",
   "metadata": {},
   "source": [
    "## Beware of the Hidden State\n",
    "\n",
    "Jupyter notebooks are an interface for writing and experimenting with code. But Jupyter has a weak spot. What you see is not always what you get.\n",
    "\n",
    "Jupyter runs code in the order that you execute it. And it remembers assignments whether or not they are still there. The image below gives an illustration. \n",
    "\n",
    "The smaller box on the left represents the hidden state. This is code that you have already executed. Look at the next frame. There we have deleted the variable, but it remains loaded in memory. This can lead to really weird situations and problems. \n",
    "\n",
    "<img src=\"../images/jupyter_hidden_state.png\">\n",
    "\n",
    "Try it out below. Run the cell and delete the variable. Run the next cell. See how it still works?"
   ]
  },
  {
   "cell_type": "code",
   "execution_count": null,
   "metadata": {},
   "outputs": [],
   "source": [
    "tense = 'past perfect'"
   ]
  },
  {
   "cell_type": "code",
   "execution_count": null,
   "metadata": {},
   "outputs": [],
   "source": [
    "print(tense)"
   ]
  },
  {
   "cell_type": "markdown",
   "metadata": {},
   "source": [
    "### Fighting back\n",
    "\n",
    "If your code is behaving strangely, a good first step is to restart the kernel. You can do that most easily by clicking the circle arrow button in toolbar.\n",
    "\n",
    "<img src=\"../images/restart.png\">"
   ]
  },
  {
   "cell_type": "markdown",
   "metadata": {},
   "source": [
    "This will reset the state and synchronize it with what you expect."
   ]
  },
  {
   "cell_type": "markdown",
   "metadata": {},
   "source": [
    "<img src=\"../images/hidden_state_solved.png\" height=\"50%\" width=\"50%\">"
   ]
  },
  {
   "cell_type": "markdown",
   "metadata": {},
   "source": [
    "Usually the hidden state of notebooks is no problem. We can write and copy back over the variables we assign with no problems. It's only when we remove or rename things that are subsequently called that we run into problems."
   ]
  },
  {
   "cell_type": "markdown",
   "metadata": {},
   "source": [
    "## Ending a Session in Jupyter\n",
    "\n",
    "When you launch Jupyter, it will also open a box with running text. In Mac this is called the Terminal app. In PC it is called the Anaconda prompt.\n",
    "\n",
    "When you are done with a Jupyter notebook, the proper way to end the session after closing your browser is to press `control + c`. This will ask you if you want to quit. Press `y`. This will terminate the session.\n",
    "\n",
    "<img src=\"../images/terminal.png\" height=\"50%\" width=\"50%\">"
   ]
  }
 ],
 "metadata": {
  "kernelspec": {
   "display_name": "Python 3",
   "language": "python",
   "name": "python3"
  },
  "language_info": {
   "codemirror_mode": {
    "name": "ipython",
    "version": 3
   },
   "file_extension": ".py",
   "mimetype": "text/x-python",
   "name": "python",
   "nbconvert_exporter": "python",
   "pygments_lexer": "ipython3",
   "version": "3.8.0"
  }
 },
 "nbformat": 4,
 "nbformat_minor": 4
}
